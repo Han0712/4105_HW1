{
 "cells": [
  {
   "cell_type": "code",
   "execution_count": 205,
   "id": "fb751bdc-40a9-454b-a450-e55cb582def2",
   "metadata": {},
   "outputs": [
    {
     "data": {
      "text/html": [
       "<div>\n",
       "<style scoped>\n",
       "    .dataframe tbody tr th:only-of-type {\n",
       "        vertical-align: middle;\n",
       "    }\n",
       "\n",
       "    .dataframe tbody tr th {\n",
       "        vertical-align: top;\n",
       "    }\n",
       "\n",
       "    .dataframe thead th {\n",
       "        text-align: right;\n",
       "    }\n",
       "</style>\n",
       "<table border=\"1\" class=\"dataframe\">\n",
       "  <thead>\n",
       "    <tr style=\"text-align: right;\">\n",
       "      <th></th>\n",
       "      <th>price</th>\n",
       "      <th>area</th>\n",
       "      <th>bedrooms</th>\n",
       "      <th>bathrooms</th>\n",
       "      <th>stories</th>\n",
       "      <th>mainroad</th>\n",
       "      <th>guestroom</th>\n",
       "      <th>basement</th>\n",
       "      <th>hotwaterheating</th>\n",
       "      <th>airconditioning</th>\n",
       "      <th>parking</th>\n",
       "      <th>prefarea</th>\n",
       "      <th>furnishingstatus</th>\n",
       "    </tr>\n",
       "  </thead>\n",
       "  <tbody>\n",
       "    <tr>\n",
       "      <th>0</th>\n",
       "      <td>13300000</td>\n",
       "      <td>7420</td>\n",
       "      <td>4</td>\n",
       "      <td>2</td>\n",
       "      <td>3</td>\n",
       "      <td>1</td>\n",
       "      <td>0</td>\n",
       "      <td>0</td>\n",
       "      <td>0</td>\n",
       "      <td>1</td>\n",
       "      <td>2</td>\n",
       "      <td>1</td>\n",
       "      <td>furnished</td>\n",
       "    </tr>\n",
       "    <tr>\n",
       "      <th>1</th>\n",
       "      <td>12250000</td>\n",
       "      <td>8960</td>\n",
       "      <td>4</td>\n",
       "      <td>4</td>\n",
       "      <td>4</td>\n",
       "      <td>1</td>\n",
       "      <td>0</td>\n",
       "      <td>0</td>\n",
       "      <td>0</td>\n",
       "      <td>1</td>\n",
       "      <td>3</td>\n",
       "      <td>0</td>\n",
       "      <td>furnished</td>\n",
       "    </tr>\n",
       "    <tr>\n",
       "      <th>2</th>\n",
       "      <td>12250000</td>\n",
       "      <td>9960</td>\n",
       "      <td>3</td>\n",
       "      <td>2</td>\n",
       "      <td>2</td>\n",
       "      <td>1</td>\n",
       "      <td>0</td>\n",
       "      <td>1</td>\n",
       "      <td>0</td>\n",
       "      <td>0</td>\n",
       "      <td>2</td>\n",
       "      <td>1</td>\n",
       "      <td>semi-furnished</td>\n",
       "    </tr>\n",
       "    <tr>\n",
       "      <th>3</th>\n",
       "      <td>12215000</td>\n",
       "      <td>7500</td>\n",
       "      <td>4</td>\n",
       "      <td>2</td>\n",
       "      <td>2</td>\n",
       "      <td>1</td>\n",
       "      <td>0</td>\n",
       "      <td>1</td>\n",
       "      <td>0</td>\n",
       "      <td>1</td>\n",
       "      <td>3</td>\n",
       "      <td>1</td>\n",
       "      <td>furnished</td>\n",
       "    </tr>\n",
       "    <tr>\n",
       "      <th>4</th>\n",
       "      <td>11410000</td>\n",
       "      <td>7420</td>\n",
       "      <td>4</td>\n",
       "      <td>1</td>\n",
       "      <td>2</td>\n",
       "      <td>1</td>\n",
       "      <td>1</td>\n",
       "      <td>1</td>\n",
       "      <td>0</td>\n",
       "      <td>1</td>\n",
       "      <td>2</td>\n",
       "      <td>0</td>\n",
       "      <td>furnished</td>\n",
       "    </tr>\n",
       "  </tbody>\n",
       "</table>\n",
       "</div>"
      ],
      "text/plain": [
       "      price  area  bedrooms  bathrooms  stories  mainroad  guestroom  \\\n",
       "0  13300000  7420         4          2        3         1          0   \n",
       "1  12250000  8960         4          4        4         1          0   \n",
       "2  12250000  9960         3          2        2         1          0   \n",
       "3  12215000  7500         4          2        2         1          0   \n",
       "4  11410000  7420         4          1        2         1          1   \n",
       "\n",
       "   basement  hotwaterheating  airconditioning  parking  prefarea  \\\n",
       "0         0                0                1        2         1   \n",
       "1         0                0                1        3         0   \n",
       "2         1                0                0        2         1   \n",
       "3         1                0                1        3         1   \n",
       "4         1                0                1        2         0   \n",
       "\n",
       "  furnishingstatus  \n",
       "0        furnished  \n",
       "1        furnished  \n",
       "2   semi-furnished  \n",
       "3        furnished  \n",
       "4        furnished  "
      ]
     },
     "execution_count": 205,
     "metadata": {},
     "output_type": "execute_result"
    }
   ],
   "source": [
    "import numpy as np\n",
    "import pandas as pd\n",
    "import matplotlib.pyplot as plt \n",
    "from sklearn.model_selection import train_test_split\n",
    "from sklearn.preprocessing import MinMaxScaler, StandardScaler\n",
    "\n",
    "housing = pd.read_csv('/Users/Han/Downloads/Housing.csv')\n",
    "\n",
    "Vars=['mainroad','guestroom','basement','hotwaterheating','airconditioning', 'prefarea']\n",
    "\n",
    "def binary_map(x):\n",
    "    return x.map({'yes':1,\"no\":0})\n",
    "         \n",
    "\n",
    "housing[Vars] = housing[Vars].apply(binary_map)\n",
    "         \n",
    "random = np.random.seed(0)\n",
    "df_training, df_testing = train_test_split(housing, train_size = 0.7, test_size = 0.3, random_state = random)\n",
    "m = len(df_training)\n",
    "n = len(df_testing)\n",
    "\n",
    "housing.head()"
   ]
  },
  {
   "cell_type": "code",
   "execution_count": 206,
   "id": "5e5a8b32-5370-4d46-9c13-b2e62c37976e",
   "metadata": {},
   "outputs": [],
   "source": [
    "def computeCost(x, y, theta):\n",
    "    size = len(x)\n",
    "    predictions = x.dot(theta)\n",
    "    errors = np.subtract(predictions, y)\n",
    "    sqrErrors = np.square(errors)\n",
    "    sqrTheta = np.square(theta)\n",
    "    J = 1/(2 * size) * np.sum(sqrErrors)\n",
    "    \n",
    "    return J"
   ]
  },
  {
   "cell_type": "code",
   "execution_count": 207,
   "id": "d804de3a-8d56-46ec-8da1-a3401f879030",
   "metadata": {},
   "outputs": [],
   "source": [
    "def gradientDescent(x, y, val_x, val_y, theta, alpha, iterations):\n",
    "    size = len(x)\n",
    "    cost_history = np.zeros(iterations)\n",
    "    validation_cost = np.zeros(iterations)\n",
    "\n",
    "    for i in range(iterations):\n",
    "        predictions = x.dot(theta)\n",
    "        errors = np.subtract(predictions, y)\n",
    "        sum_delta = (alpha / m) * x.transpose().dot(errors)\n",
    "        theta = theta - sum_delta;\n",
    "        cost_history[i] = computeCost(x, y, theta)\n",
    "        validation_cost[i] = computeCost(val_x, val_y, theta)\n",
    "        \n",
    "    return theta, cost_history, validation_cost"
   ]
  },
  {
   "cell_type": "code",
   "execution_count": 223,
   "id": "9bb1ce00-e6b7-4738-a003-701bab96a6e3",
   "metadata": {},
   "outputs": [
    {
     "data": {
      "text/plain": [
       "<matplotlib.legend.Legend at 0x2bb39e1f490>"
      ]
     },
     "execution_count": 223,
     "metadata": {},
     "output_type": "execute_result"
    },
    {
     "data": {
      "image/png": "[encoded data removed]",
      "text/plain": [
       "<Figure size 432x288 with 1 Axes>"
      ]
     },
     "metadata": {
      "needs_background": "light"
     },
     "output_type": "display_data"
    }
   ],
   "source": [
    "Vars = ['price', 'area', 'bedrooms', 'bathrooms', 'stories', 'parking']\n",
    "\n",
    "training_1a = df_training[Vars]\n",
    "testing_1a = df_testing[Vars]\n",
    "\n",
    "theta = np.zeros(len(Vars))\n",
    "\n",
    "y = training_1a.pop('price')\n",
    "x = training_1a\n",
    "\n",
    "iterations = 3000\n",
    "alpha = 0.00000001\n",
    "\n",
    "x0 = np.ones((m, 1))\n",
    "x = np.hstack((x0, x))\n",
    "\n",
    "val_y = testing_1a.pop('price')\n",
    "val_x = testing_1a\n",
    "\n",
    "x0 = np.ones((n, 1))\n",
    "val_x = np.hstack((x0, val_x))\n",
    "\n",
    "theta, cost_history, validation_cost = gradientDescent(x, y, val_x, val_y, theta, alpha, iterations)\n",
    "\n",
    "iteration_array = np.arange(1, iterations + 1)\n",
    "\n",
    "plt.plot(iteration_array, cost_history, color= 'red', label = 'Training')\n",
    "plt.plot(iteration_array, validation_cost, color= 'blue', label = 'Validation')\n",
    "plt.grid()\n",
    "plt.rcParams[\"figure.figsize\"] = (15,10)\n",
    "plt.title('Covergence of Gradient Descent')\n",
    "plt.xlabel(\"Iterations\")\n",
    "plt.ylabel(\"Cost\")\n",
    "plt.legend()"
   ]
  },
  {
   "cell_type": "code",
   "execution_count": 209,
   "id": "d65a7f90-8988-4173-b398-b07cfdc7744b",
   "metadata": {},
   "outputs": [
    {
     "name": "stdout",
     "output_type": "stream",
     "text": [
      "Final value of theta = [  9.32975762 880.90098428  38.14853613  21.87995574  32.608022\n",
      "   8.22954705   4.44214415   7.72131363   2.29010045   8.79398089\n",
      "   8.11438159   4.51772127]\n",
      "cost_history = [7.34258594e+12 4.47600212e+12 3.05333386e+12 ... 1.65148949e+12\n",
      " 1.65148945e+12 1.65148942e+12]\n",
      "validation loss = [6.89624196e+12 3.96926948e+12 2.61660826e+12 ... 1.75686599e+12\n",
      " 1.75686594e+12 1.75686589e+12]\n"
     ]
    }
   ],
   "source": [
    "Vars = ['area', 'bedrooms', 'bathrooms', 'stories', 'mainroad', 'guestroom', 'basement',\n",
    "           'hotwaterheating', 'airconditioning', 'parking', 'prefarea', 'price']\n",
    "\n",
    "training_1b = df_training[Vars]\n",
    "testing_1b = df_testing[Vars]\n",
    "\n",
    "iterations = 3000\n",
    "alpha = 0.00000001\n",
    "\n",
    "theta = np.zeros(len(Vars))\n",
    "\n",
    "y = training_1b.pop('price')\n",
    "x = training_1b\n",
    "\n",
    "x_0 = np.ones((m, 1))\n",
    "x = np.hstack((x_0, x))\n",
    "\n",
    "val_y = testing_1b.pop('price')\n",
    "val_x = testing_1b\n",
    "\n",
    "x_0 = np.ones((n, 1))\n",
    "val_x = np.hstack((x_0, val_x))\n",
    "\n",
    "theta, cost_history, validation_cost = gradientDescent(x, y, val_x, val_y, theta, alpha, iterations)\n",
    "\n",
    "print('Final value of theta =',theta)\n",
    "print('cost_history =',cost_history)\n",
    "print('validation loss =', validation_cost)"
   ]
  },
  {
   "cell_type": "code",
   "execution_count": 210,
   "id": "e108048c-5dbb-443b-b557-8ec211c13c5e",
   "metadata": {},
   "outputs": [
    {
     "data": {
      "image/png": "[encoded data removed]",
      "text/plain": [
       "<Figure size 432x288 with 1 Axes>"
      ]
     },
     "metadata": {
      "needs_background": "light"
     },
     "output_type": "display_data"
    }
   ],
   "source": [
    "iteration_array = np.arange(1, iterations + 1)\n",
    "\n",
    "plt.plot(iteration_array, cost_history, color= 'red', label = 'Training')\n",
    "plt.plot(iteration_array, validation_cost, color= 'blue', label = 'Validation')\n",
    "plt.title('1b Covergence of Gradient Descent')\n",
    "plt.xlabel(\"Iterations\")\n",
    "plt.ylabel(\"Cost\")\n",
    "plt.legend()\n",
    "plt.grid()"
   ]
  },
  {
   "cell_type": "code",
   "execution_count": 211,
   "id": "fcbd318c-264c-4bd4-a379-ceb0eb052b1a",
   "metadata": {},
   "outputs": [
    {
     "name": "stdout",
     "output_type": "stream",
     "text": [
      "Final value of theta = [0.07319685 0.20480704 0.09975094 0.17750598 0.13883683 0.124413  ]\n",
      "cost_history = [0.0461728  0.0451099  0.0440779  ... 0.00667605 0.00667587 0.00667568]\n",
      "validation loss = [0.0557536  0.05462289 0.05352287 ... 0.00757262 0.00757225 0.00757189]\n",
      "\n"
     ]
    }
   ],
   "source": [
    "Vars = ['area', 'bedrooms', 'bathrooms', 'stories', 'parking', 'price']\n",
    "\n",
    "training_2a = df_training[Vars]\n",
    "testing_2a = df_testing[Vars]\n",
    "\n",
    "iterations = 3000\n",
    "alpha = 0.01\n",
    "\n",
    "# With normalization\n",
    "\n",
    "scaler = MinMaxScaler()\n",
    "training_2a[Vars] = scaler.fit_transform(training_2a[Vars] ) \n",
    "testing_2a[Vars] = scaler.fit_transform(testing_2a[Vars]) \n",
    "\n",
    "theta = np.zeros(len(Vars))\n",
    "\n",
    "y = training_2a.pop('price')\n",
    "x = training_2a\n",
    "\n",
    "x_0 = np.ones((m, 1))\n",
    "x = np.hstack((x_0, x))\n",
    "\n",
    "val_y = testing_2a.pop('price')\n",
    "val_x = testing_2a\n",
    "\n",
    "x_0 = np.ones((n, 1))\n",
    "val_x = np.hstack((x_0, val_x))\n",
    "\n",
    "theta, cost_history, validation_cost = gradientDescent(x, y, val_x, val_y, theta, alpha, iterations)\n",
    "\n",
    "print('Final value of theta =',theta)\n",
    "print('cost_history =',cost_history)\n",
    "print('validation loss =', validation_cost)\n",
    "print('')"
   ]
  },
  {
   "cell_type": "code",
   "execution_count": 212,
   "id": "182023b3-a679-4440-9ff2-37e4021ba655",
   "metadata": {},
   "outputs": [
    {
     "data": {
      "image/png": "[encoded data removed]",
      "text/plain": [
       "<Figure size 432x288 with 1 Axes>"
      ]
     },
     "metadata": {
      "needs_background": "light"
     },
     "output_type": "display_data"
    }
   ],
   "source": [
    "iteration_array = np.arange(1, iterations + 1)\n",
    "\n",
    "plt.plot(iteration_array, cost_history, color= 'red', label = 'Training')\n",
    "plt.plot(iteration_array, validation_cost, color= 'blue', label = 'Validation')\n",
    "plt.title('Covergence of Gradient Descent - Normalization')\n",
    "plt.xlabel(\"Iterations\")\n",
    "plt.ylabel(\"Cost\")\n",
    "plt.legend()\n",
    "plt.grid()"
   ]
  },
  {
   "cell_type": "code",
   "execution_count": 213,
   "id": "344acfb5-59c8-42a0-a1ce-faaf77d15e3d",
   "metadata": {},
   "outputs": [
    {
     "name": "stdout",
     "output_type": "stream",
     "text": [
      "Final value of theta = [1.78428284e-16 3.83653303e-01 1.04343459e-01 2.98541734e-01\n",
      " 2.34542827e-01 1.49757135e-01]\n",
      "cost_history = [0.49079323 0.48191797 0.47336212 ... 0.23575888 0.23575888 0.23575888]\n",
      "validation loss = [0.48940405 0.4791816  0.46931915 ... 0.17915996 0.17915996 0.17915996]\n"
     ]
    }
   ],
   "source": [
    "# With standardization\n",
    "\n",
    "training_2a = df_training[Vars]\n",
    "testing_2a = df_testing[Vars]\n",
    "\n",
    "scaler = StandardScaler()\n",
    "training_2a[Vars] = scaler.fit_transform(training_2a[Vars] ) \n",
    "testing_2a[Vars] = scaler.fit_transform(testing_2a[Vars]) \n",
    "\n",
    "theta = np.zeros(len(Vars))\n",
    "\n",
    "y = training_2a.pop('price')\n",
    "x = training_2a\n",
    "\n",
    "x_0 = np.ones((m, 1))\n",
    "x = np.hstack((x_0, x))\n",
    "\n",
    "val_y = testing_2a.pop('price')\n",
    "val_x = testing_2a\n",
    "\n",
    "x_0 = np.ones((n, 1))\n",
    "val_x = np.hstack((x_0, val_x))\n",
    "\n",
    "theta, cost_history, validation_cost = gradientDescent(x, y, val_x, val_y, theta, alpha, iterations)\n",
    "\n",
    "print('Final value of theta =',theta)\n",
    "print('cost_history =',cost_history)\n",
    "print('validation loss =', validation_cost)"
   ]
  },
  {
   "cell_type": "code",
   "execution_count": 214,
   "id": "bd56f10d-2ec5-46af-a622-ea70343b0b86",
   "metadata": {},
   "outputs": [
    {
     "data": {
      "image/png": "[encoded data removed]",
      "text/plain": [
       "<Figure size 432x288 with 1 Axes>"
      ]
     },
     "metadata": {
      "needs_background": "light"
     },
     "output_type": "display_data"
    }
   ],
   "source": [
    "#Standardization plot\n",
    "\n",
    "iteration_array = np.arange(1, iterations + 1)\n",
    "\n",
    "plt.plot(iteration_array, cost_history, color= 'red', label = 'Training')\n",
    "plt.plot(iteration_array, validation_cost, color= 'blue', label = 'Validation')\n",
    "plt.title('Covergence of Gradient Descent - Standardization')\n",
    "plt.xlabel(\"Iterations\")\n",
    "plt.ylabel(\"Cost\")\n",
    "plt.legend()\n",
    "plt.grid()"
   ]
  },
  {
   "cell_type": "code",
   "execution_count": 215,
   "id": "01d84050-ef38-4bdf-ab1c-8b87d9086dd6",
   "metadata": {},
   "outputs": [
    {
     "name": "stdout",
     "output_type": "stream",
     "text": [
      "Final value of theta = [0.01734473 0.12977511 0.06369916 0.14735119 0.1082874  0.04959615\n",
      " 0.04369186 0.02601946 0.08152064 0.08785169 0.09418075 0.07626199]\n",
      "cost_history = [0.04523851 0.04331433 0.04148956 ... 0.00485579 0.0048557  0.0048556 ]\n",
      "validation loss = [0.05474675 0.05268313 0.05071976 ... 0.00642527 0.00642504 0.0064248 ]\n",
      "\n"
     ]
    }
   ],
   "source": [
    "Vars = ['area', 'bedrooms', 'bathrooms', 'stories', 'mainroad', 'guestroom', 'basement',\n",
    "           'hotwaterheating', 'airconditioning', 'parking', 'prefarea', 'price']\n",
    "\n",
    "training_2b = df_training[Vars]\n",
    "testing_2b = df_testing[Vars]\n",
    "\n",
    "iterations = 3000\n",
    "alpha = 0.01\n",
    "\n",
    "# With normalization\n",
    "\n",
    "scaler = MinMaxScaler()\n",
    "training_2b[Vars] = scaler.fit_transform(training_2b[Vars]) \n",
    "testing_2b[Vars] = scaler.fit_transform(testing_2b[Vars]) \n",
    "\n",
    "theta = np.zeros(len(Vars))\n",
    "\n",
    "y = training_2b.pop('price')\n",
    "x = training_2b\n",
    "\n",
    "x_0 = np.ones((m, 1))\n",
    "x = np.hstack((x_0, x))\n",
    "\n",
    "val_y = testing_2b.pop('price')\n",
    "val_x = testing_2b\n",
    "\n",
    "x_0 = np.ones((n, 1))\n",
    "val_x = np.hstack((x_0, val_x))\n",
    "\n",
    "theta, cost_history, validation_cost = gradientDescent(x, y, val_x, val_y, theta, alpha, iterations)\n",
    "\n",
    "print('Final value of theta =',theta)\n",
    "print('cost_history =',cost_history)\n",
    "print('validation loss =', validation_cost)\n",
    "print('')"
   ]
  },
  {
   "cell_type": "code",
   "execution_count": 216,
   "id": "12c0d337-ebb2-4c86-9406-e3d6366cf60f",
   "metadata": {},
   "outputs": [
    {
     "data": {
      "image/png": "[encoded data removed]",
      "text/plain": [
       "<Figure size 432x288 with 1 Axes>"
      ]
     },
     "metadata": {
      "needs_background": "light"
     },
     "output_type": "display_data"
    }
   ],
   "source": [
    "iteration_array = np.arange(1, iterations + 1)\n",
    "\n",
    "plt.plot(iteration_array, cost_history, color= 'red', label = 'Training')\n",
    "plt.plot(iteration_array, validation_cost, color= 'blue', label = 'Validation')\n",
    "plt.title('Covergence of Gradient Descent - Normalizaion')\n",
    "plt.xlabel(\"Iterations\")\n",
    "plt.ylabel(\"Cost\")\n",
    "plt.legend()\n",
    "plt.grid()"
   ]
  },
  {
   "cell_type": "code",
   "execution_count": 217,
   "id": "2a2f65cb-a4f8-4468-96cd-84cbfc25d2c1",
   "metadata": {},
   "outputs": [
    {
     "name": "stdout",
     "output_type": "stream",
     "text": [
      "Final value of theta = [1.83801647e-16 2.69430193e-01 5.88476169e-02 2.48153256e-01\n",
      " 1.99265748e-01 9.20206353e-02 8.25961095e-02 9.41682168e-02\n",
      " 1.40206933e-01 2.32616752e-01 1.16157180e-01 1.62960312e-01]\n",
      "cost_history = [0.48551244 0.47168853 0.45849763 ... 0.17510401 0.17510401 0.17510401]\n",
      "validation loss = [0.48461837 0.46992388 0.45588525 ... 0.14271597 0.14271597 0.14271597]\n"
     ]
    }
   ],
   "source": [
    "# With standardization\n",
    "\n",
    "training_2b = df_training[Vars]\n",
    "testing_2b = df_testing[Vars]\n",
    "\n",
    "scaler = StandardScaler()\n",
    "training_2b[Vars] = scaler.fit_transform(training_2b[Vars]) \n",
    "testing_2b[Vars] = scaler.fit_transform(testing_2b[Vars]) \n",
    "\n",
    "theta = np.zeros(len(Vars))\n",
    "\n",
    "y = training_2b.pop('price')\n",
    "x = training_2b\n",
    "\n",
    "x_0 = np.ones((m, 1))\n",
    "x = np.hstack((x_0, x))\n",
    "\n",
    "val_y = testing_2b.pop('price')\n",
    "val_x = testing_2b\n",
    "\n",
    "x_0 = np.ones((n, 1))\n",
    "val_x = np.hstack((x_0, val_x))\n",
    "\n",
    "theta, cost_history, validation_cost = gradientDescent(x, y, val_x, val_y, theta, alpha, iterations)\n",
    "\n",
    "print('Final value of theta =',theta)\n",
    "print('cost_history =',cost_history)\n",
    "print('validation loss =', validation_cost)"
   ]
  },
  {
   "cell_type": "code",
   "execution_count": 218,
   "id": "86b8e18c-a601-444a-abb5-cb19215a80d9",
   "metadata": {},
   "outputs": [
    {
     "data": {
      "image/png": "[encoded data removed]",
      "text/plain": [
       "<Figure size 432x288 with 1 Axes>"
      ]
     },
     "metadata": {
      "needs_background": "light"
     },
     "output_type": "display_data"
    }
   ],
   "source": [
    "#Standardization plot\n",
    "\n",
    "iteration_array = np.arange(1, iterations + 1)\n",
    "\n",
    "plt.plot(iteration_array, cost_history, color= 'red', label = 'Training')\n",
    "plt.plot(iteration_array, validation_cost, color= 'blue', label = 'Validation')\n",
    "plt.title('Covergence of Gradient Descent - Standardizaion')\n",
    "plt.xlabel(\"Iterations\")\n",
    "plt.ylabel(\"Cost\")\n",
    "plt.legend()\n",
    "plt.grid()"
   ]
  },
  {
   "cell_type": "code",
   "execution_count": 219,
   "id": "8dd43fb7-7fc4-463d-95d5-dab5e0a6252b",
   "metadata": {},
   "outputs": [
    {
     "name": "stdout",
     "output_type": "stream",
     "text": [
      "Final value of theta = [0.07319685 0.20480704 0.09975094 0.17750598 0.13883683 0.124413  ]\n",
      "cost_history = [0.0461728  0.0451099  0.0440779  ... 0.00667605 0.00667587 0.00667568]\n",
      "validation loss = [0.0557536  0.05462289 0.05352287 ... 0.00757262 0.00757225 0.00757189]\n"
     ]
    }
   ],
   "source": [
    "#Training for Problem 3a\n",
    "\n",
    "\n",
    "Vars = ['area', 'bedrooms', 'bathrooms', 'stories', 'parking', 'price']\n",
    "\n",
    "traing_3a = df_training[Vars]\n",
    "test_3a = df_testing[Vars]\n",
    "\n",
    "iterations = 3000\n",
    "alpha = 0.01\n",
    "\n",
    "scaler = MinMaxScaler()\n",
    "traing_3a[Vars] = scaler.fit_transform(traing_3a[Vars] ) \n",
    "test_3a[Vars] = scaler.fit_transform(test_3a[Vars]) \n",
    "\n",
    "theta = np.zeros(len(Vars))\n",
    "\n",
    "y = traing_3a.pop('price')\n",
    "x = traing_3a\n",
    "\n",
    "x_0 = np.ones((m, 1))\n",
    "x = np.hstack((x_0, x))\n",
    "\n",
    "val_y = test_3a.pop('price')\n",
    "val_x = test_3a\n",
    "\n",
    "x_0 = np.ones((n, 1))\n",
    "val_x = np.hstack((x_0, val_x))\n",
    "\n",
    "theta, cost_history, validation_cost = gradientDescent(x, y, val_x, val_y, theta, alpha, iterations)\n",
    "\n",
    "print('Final value of theta =',theta)\n",
    "print('cost_history =',cost_history)\n",
    "print('validation loss =', validation_cost)"
   ]
  },
  {
   "cell_type": "code",
   "execution_count": 220,
   "id": "e8d29b17-a560-4685-9711-a8eb8389f08e",
   "metadata": {},
   "outputs": [
    {
     "data": {
      "image/png": "[encoded data removed]",
      "text/plain": [
       "<Figure size 432x288 with 1 Axes>"
      ]
     },
     "metadata": {
      "needs_background": "light"
     },
     "output_type": "display_data"
    }
   ],
   "source": [
    "iteration_array = np.arange(1, iterations + 1)\n",
    "\n",
    "plt.plot(iteration_array, cost_history, color= 'red', label = 'Training')\n",
    "plt.plot(iteration_array, validation_cost, color= 'blue', label = 'Validation')\n",
    "plt.title('Covergence of Gradient Descent')\n",
    "plt.xlabel(\"Iterations\")\n",
    "plt.ylabel(\"Cost\")\n",
    "plt.legend()\n",
    "plt.grid()"
   ]
  },
  {
   "cell_type": "code",
   "execution_count": 221,
   "id": "6ed3b8a5-8807-49ae-9984-c901c60110df",
   "metadata": {},
   "outputs": [
    {
     "name": "stdout",
     "output_type": "stream",
     "text": [
      "Final value of theta = [0.01734473 0.12977511 0.06369916 0.14735119 0.1082874  0.04959615\n",
      " 0.04369186 0.02601946 0.08152064 0.08785169 0.09418075 0.07626199]\n",
      "cost_history = [0.04523851 0.04331433 0.04148956 ... 0.00485579 0.0048557  0.0048556 ]\n",
      "validation loss = [0.05474675 0.05268313 0.05071976 ... 0.00642527 0.00642504 0.0064248 ]\n"
     ]
    }
   ],
   "source": [
    "#Training for Problem 3b\n",
    "\n",
    "\n",
    "Vars = ['area', 'bedrooms', 'bathrooms', 'stories', 'mainroad', 'guestroom', 'basement',\n",
    "           'hotwaterheating', 'airconditioning', 'parking', 'prefarea', 'price']\n",
    "\n",
    "training_3b = df_training[Vars]\n",
    "testing_3b = df_testing[Vars]\n",
    "\n",
    "iterations = 3000\n",
    "alpha = 0.01\n",
    "\n",
    "scaler = MinMaxScaler()\n",
    "training_3b[Vars] = scaler.fit_transform(training_3b[Vars] ) \n",
    "testing_3b[Vars] = scaler.fit_transform(testing_3b[Vars]) \n",
    "\n",
    "theta = np.zeros(len(Vars))\n",
    "\n",
    "y = training_3b.pop('price')\n",
    "x = training_3b\n",
    "\n",
    "x_0 = np.ones((m, 1))\n",
    "x = np.hstack((x_0, x))\n",
    "\n",
    "val_y = testing_3b.pop('price')\n",
    "val_x = testing_3b\n",
    "\n",
    "x_0 = np.ones((n, 1))\n",
    "val_x = np.hstack((x_0, val_x))\n",
    "\n",
    "theta, cost_history, validation_cost = gradientDescent(x, y, val_x, val_y, theta, alpha, iterations)\n",
    "\n",
    "print('Final value of theta =',theta)\n",
    "print('cost_history =',cost_history)\n",
    "print('validation loss =', validation_cost)"
   ]
  },
  {
   "cell_type": "code",
   "execution_count": 222,
   "id": "2119a873-f658-424a-b87a-36eb0f4a6af4",
   "metadata": {},
   "outputs": [
    {
     "data": {
      "image/png": "[encoded data removed]",
      "text/plain": [
       "<Figure size 432x288 with 1 Axes>"
      ]
     },
     "metadata": {
      "needs_background": "light"
     },
     "output_type": "display_data"
    }
   ],
   "source": [
    "iteration_array = np.arange(1, iterations + 1)\n",
    "\n",
    "plt.plot(iteration_array, cost_history, color= 'red', label = 'Training')\n",
    "plt.plot(iteration_array, validation_cost, color= 'blue', label = 'Validation')\n",
    "plt.title('Covergence of Gradient Descent')\n",
    "plt.xlabel(\"Iterations\")\n",
    "plt.ylabel(\"Cost\")\n",
    "plt.legend()\n",
    "plt.grid()"
   ]
  },
  {
   "cell_type": "code",
   "execution_count": null,
   "id": "98622479-6b8d-4f89-86ed-567f0de630a1",
   "metadata": {},
   "outputs": [],
   "source": []
  }
 ],
 "metadata": {
  "kernelspec": {
   "display_name": "Python 3",
   "language": "python",
   "name": "python3"
  },
  "language_info": {
   "codemirror_mode": {
    "name": "ipython",
    "version": 3
   },
   "file_extension": ".py",
   "mimetype": "text/x-python",
   "name": "python",
   "nbconvert_exporter": "python",
   "pygments_lexer": "ipython3",
   "version": "3.8.8"
  }
 },
 "nbformat": 4,
 "nbformat_minor": 5
}
